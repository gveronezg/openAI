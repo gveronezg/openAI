{
 "cells": [
  {
   "cell_type": "code",
   "execution_count": 1,
   "metadata": {},
   "outputs": [],
   "source": [
    "import openai\n",
    "from dotenv import load_dotenv, find_dotenv\n",
    "_ = load_dotenv(find_dotenv())\n",
    "client = openai.Client()"
   ]
  },
  {
   "cell_type": "code",
   "execution_count": null,
   "metadata": {},
   "outputs": [],
   "source": [
    "arquivo = 'gian_c.ogg'\n",
    "\n",
    "texto = '''\n",
    "Oi Gian, tudo bem?\n",
    "Já ouvi seu audio e agora estou trabalhando para te responder da melhor forma possivel, ta ok?!\n",
    "Até breve!\n",
    "'''\n",
    "\n",
    "resposta = client.audio.speech.create(\n",
    "    model='tts-1',\n",
    "    voice='echo',\n",
    "    input=texto\n",
    ")\n",
    "\n",
    "resposta.write_to_file(arquivo)"
   ]
  },
  {
   "cell_type": "code",
   "execution_count": 4,
   "metadata": {},
   "outputs": [],
   "source": [
    "arquivo = 'gian_c.ogg'\n",
    "\n",
    "texto = '''\n",
    "Esse audio foi gerado através de uma entrada de texto totalmente personalizada de quem me desenvolveu.\n",
    "'''\n",
    "\n",
    "with client.audio.speech.with_streaming_response.create(\n",
    "    model='tts-1',\n",
    "    voice='onyx',\n",
    "    input=texto\n",
    ") as resposta:\n",
    "    resposta.stream_to_file(arquivo)"
   ]
  },
  {
   "cell_type": "code",
   "execution_count": null,
   "metadata": {},
   "outputs": [],
   "source": []
  }
 ],
 "metadata": {
  "kernelspec": {
   "display_name": "av",
   "language": "python",
   "name": "python3"
  },
  "language_info": {
   "codemirror_mode": {
    "name": "ipython",
    "version": 3
   },
   "file_extension": ".py",
   "mimetype": "text/x-python",
   "name": "python",
   "nbconvert_exporter": "python",
   "pygments_lexer": "ipython3",
   "version": "3.13.2"
  }
 },
 "nbformat": 4,
 "nbformat_minor": 2
}
