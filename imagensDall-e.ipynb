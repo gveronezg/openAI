{
 "cells": [
  {
   "cell_type": "code",
   "execution_count": 3,
   "metadata": {},
   "outputs": [],
   "source": [
    "import openai\n",
    "import requests\n",
    "from PIL import Image\n",
    "from dotenv import load_dotenv, find_dotenv\n",
    "_ = load_dotenv(find_dotenv())\n",
    "client = openai.Client()"
   ]
  },
  {
   "cell_type": "code",
   "execution_count": 22,
   "metadata": {},
   "outputs": [],
   "source": [
    "nome = 'estudante_de_python'\n",
    "modelo='dall-e-2'\n",
    "prompt='Crie uma imagem de um desenvolvedor focado em python, estudando para se aperfeiçoar na sua carreira'\n",
    "qualidade='hd'\n",
    "stilo='vivid'\n",
    "\n",
    "resposta = client.images.generate(\n",
    "    model=modelo,\n",
    "    prompt=prompt,\n",
    "    size='1024x1024',\n",
    "    quality=qualidade,\n",
    "    style=stilo,\n",
    "    n=1\n",
    ")"
   ]
  },
  {
   "cell_type": "code",
   "execution_count": 23,
   "metadata": {},
   "outputs": [
    {
     "name": "stdout",
     "output_type": "stream",
     "text": [
      "None\n"
     ]
    }
   ],
   "source": [
    "print(resposta.data[0].revised_prompt)"
   ]
  },
  {
   "cell_type": "code",
   "execution_count": 24,
   "metadata": {},
   "outputs": [
    {
     "name": "stdout",
     "output_type": "stream",
     "text": [
      "https://oaidalleapiprodscus.blob.core.windows.net/private/org-nkjgDkDcPNtTnjoc6ctqKvIK/user-J1xb2z93Q8kIMzy7U2MDYZTJ/img-v7zWDFxVT7HV8ZDUhKL2sZ1I.png?st=2025-03-19T19%3A09%3A49Z&se=2025-03-19T21%3A09%3A49Z&sp=r&sv=2024-08-04&sr=b&rscd=inline&rsct=image/png&skoid=d505667d-d6c1-4a0a-bac7-5c84a87759f8&sktid=a48cca56-e6da-484e-a814-9c849652bcb3&skt=2025-03-19T19%3A29%3A59Z&ske=2025-03-20T19%3A29%3A59Z&sks=b&skv=2024-08-04&sig=2%2BKFGLMLF3FgS/URmSYdEK9dMZ5VasNeZz6lseAWr3o%3D\n"
     ]
    }
   ],
   "source": [
    "print(resposta.data[0].url)"
   ]
  },
  {
   "cell_type": "markdown",
   "metadata": {},
   "source": [
    "### Salvando imagem"
   ]
  },
  {
   "cell_type": "code",
   "execution_count": 25,
   "metadata": {},
   "outputs": [],
   "source": [
    "nome_arquivo = f'imagens/{nome}_{modelo}_{qualidade}_{stilo}.jpg'\n",
    "image_url = resposta.data[0].url\n",
    "img_data = requests.get(image_url).content\n",
    "with open(nome_arquivo, 'wb') as f:\n",
    "    f.write(img_data)"
   ]
  },
  {
   "cell_type": "markdown",
   "metadata": {},
   "source": [
    "### Mostrando a imagem"
   ]
  },
  {
   "cell_type": "code",
   "execution_count": 26,
   "metadata": {},
   "outputs": [],
   "source": [
    "image = Image.open(nome_arquivo)\n",
    "image.show()"
   ]
  },
  {
   "cell_type": "markdown",
   "metadata": {},
   "source": [
    "## Editando imagens\n",
    "\n",
    "https://ai-image-editor.netlify.app/"
   ]
  },
  {
   "cell_type": "code",
   "execution_count": 4,
   "metadata": {},
   "outputs": [],
   "source": [
    "resposta = client.images.edit(\n",
    "    model='dall-e-2',\n",
    "    image=open('imagens/original.png', 'rb'),\n",
    "    mask=open('imagens/mask.png', 'rb'),\n",
    "    prompt='Na centro da tampa do notebook deve conter o emblema python que estava presente na capa do livro. E na capa do livro deve estar escrito: \"Tudo o que você precisa saber sobre Python\"',\n",
    "    size='1024x1024',\n",
    "    n=1\n",
    ")"
   ]
  },
  {
   "cell_type": "code",
   "execution_count": null,
   "metadata": {},
   "outputs": [],
   "source": [
    "nome_arquivo = 'imagens/editada.png'\n",
    "image_url = resposta.data[0].url\n",
    "img_data = requests.get(image_url).content\n",
    "with open(nome_arquivo, 'wb') as f:\n",
    "    f.write(img_data)"
   ]
  },
  {
   "cell_type": "markdown",
   "metadata": {},
   "source": [
    "## Variações"
   ]
  },
  {
   "cell_type": "code",
   "execution_count": 8,
   "metadata": {},
   "outputs": [],
   "source": [
    "resposta = client.images.create_variation(\n",
    "    image=open('imagens/estudante_de_python_dall-e-2_hd_natural.jpg', 'rb'),\n",
    "    size='1024x1024',\n",
    "    n=1\n",
    ")"
   ]
  },
  {
   "cell_type": "code",
   "execution_count": 9,
   "metadata": {},
   "outputs": [],
   "source": [
    "nome_arquivo = 'imagens/variacao.png'\n",
    "image_url = resposta.data[0].url\n",
    "img_data = requests.get(image_url).content\n",
    "with open(nome_arquivo, 'wb') as f:\n",
    "    f.write(img_data)"
   ]
  }
 ],
 "metadata": {
  "kernelspec": {
   "display_name": "av",
   "language": "python",
   "name": "python3"
  },
  "language_info": {
   "codemirror_mode": {
    "name": "ipython",
    "version": 3
   },
   "file_extension": ".py",
   "mimetype": "text/x-python",
   "name": "python",
   "nbconvert_exporter": "python",
   "pygments_lexer": "ipython3",
   "version": "3.13.2"
  }
 },
 "nbformat": 4,
 "nbformat_minor": 2
}
