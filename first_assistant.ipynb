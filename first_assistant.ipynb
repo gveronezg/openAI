{
 "cells": [
  {
   "cell_type": "code",
   "execution_count": 3,
   "metadata": {},
   "outputs": [],
   "source": [
    "import openai\n",
    "from dotenv import load_dotenv, find_dotenv\n",
    "\n",
    "_ = load_dotenv(find_dotenv())\n",
    "client = openai.Client()"
   ]
  },
  {
   "cell_type": "code",
   "execution_count": 4,
   "metadata": {},
   "outputs": [],
   "source": [
    "assistant = client.beta.assistants.create(\n",
    "    name='Tutor de Matemática',\n",
    "    instructions='Você é um tutor pessoal de matemática. Escreva e execute códigos para responder as perguntas de matemática que lhe forem passadas.',\n",
    "    tools=[{'type':'code_interpreter'}],\n",
    "    model='gpt-3.5-turbo-0125'\n",
    ")"
   ]
  },
  {
   "cell_type": "code",
   "execution_count": 5,
   "metadata": {},
   "outputs": [],
   "source": [
    "thread = client.beta.threads.create()"
   ]
  },
  {
   "cell_type": "code",
   "execution_count": 7,
   "metadata": {},
   "outputs": [],
   "source": [
    "message = client.beta.threads.messages.create(\n",
    "    thread_id=thread.id,\n",
    "    role='user',\n",
    "    content='Se eu jogar um dado honesto 1000 vezes, qual a probabilidade de eu obter exatamente 150 vezes o número 6? Resolva com um código.'\n",
    ")"
   ]
  },
  {
   "cell_type": "code",
   "execution_count": 8,
   "metadata": {},
   "outputs": [],
   "source": [
    "run = client.beta.threads.runs.create(\n",
    "    thread_id=thread.id,\n",
    "    assistant_id=assistant.id,\n",
    "    instructions='O nome do usuário é Adriano Soares e ele é um usuário Premium.'\n",
    ")"
   ]
  },
  {
   "cell_type": "code",
   "execution_count": 9,
   "metadata": {},
   "outputs": [],
   "source": [
    "import time\n",
    "\n",
    "while run.status in ['queued', 'in_progress', 'cancelling']:\n",
    "    time.sleep(1)\n",
    "    run = client.beta.threads.runs.retrieve(\n",
    "        thread_id=thread.id,\n",
    "        run_id=run.id\n",
    "    )"
   ]
  },
  {
   "cell_type": "code",
   "execution_count": 10,
   "metadata": {},
   "outputs": [
    {
     "data": {
      "text/plain": [
       "'completed'"
      ]
     },
     "execution_count": 10,
     "metadata": {},
     "output_type": "execute_result"
    }
   ],
   "source": [
    "run.status"
   ]
  },
  {
   "cell_type": "code",
   "execution_count": 12,
   "metadata": {},
   "outputs": [
    {
     "name": "stdout",
     "output_type": "stream",
     "text": [
      "A probabilidade de obter exatamente 150 vezes o número 6 ao jogar um dado honesto 1000 vezes é aproximadamente 0.0126, ou seja, aproximadamente 1.26%.\n"
     ]
    }
   ],
   "source": [
    "if run.status == 'completed':\n",
    "    mensagens = client.beta.threads.messages.list(\n",
    "        thread_id=thread.id\n",
    "    )\n",
    "    print(mensagens.data[0].content[0].text.value)\n",
    "else:\n",
    "    print('Erro', run.status)"
   ]
  },
  {
   "cell_type": "markdown",
   "metadata": {},
   "source": [
    "# Analisando os passos do modelo"
   ]
  },
  {
   "cell_type": "code",
   "execution_count": 13,
   "metadata": {},
   "outputs": [],
   "source": [
    "run_steps = client.beta.threads.runs.steps.list(\n",
    "    thread_id=thread.id,\n",
    "    run_id=run.id\n",
    ")"
   ]
  },
  {
   "cell_type": "code",
   "execution_count": 20,
   "metadata": {},
   "outputs": [
    {
     "data": {
      "text/plain": [
       "RunStep(id='step_7k2rlzma17sgkBWEXpWJQawW', assistant_id='asst_FqkLlh8olRJUUy5b8JHqAsDA', cancelled_at=None, completed_at=1741886793, created_at=1741886793, expired_at=None, failed_at=None, last_error=None, metadata=None, object='thread.run.step', run_id='run_3LWLNi20whlyWsyfJUBLFC81', status='completed', step_details=MessageCreationStepDetails(message_creation=MessageCreation(message_id='msg_RbpyC71B2PnccjgIZcxZ1wlV'), type='message_creation'), thread_id='thread_zJoWud86IpuV9GfJePa8ur9z', type='message_creation', usage=Usage(completion_tokens=48, prompt_tokens=464, total_tokens=512, prompt_token_details={'cached_tokens': 0}, completion_tokens_details={'reasoning_tokens': 0}), expires_at=None)"
      ]
     },
     "execution_count": 20,
     "metadata": {},
     "output_type": "execute_result"
    }
   ],
   "source": [
    "run_steps.data[0]"
   ]
  },
  {
   "cell_type": "code",
   "execution_count": 15,
   "metadata": {},
   "outputs": [
    {
     "name": "stdout",
     "output_type": "stream",
     "text": [
      "=== Step: message_creation\n",
      "=== Step: tool_calls\n",
      "=== Step: message_creation\n"
     ]
    }
   ],
   "source": [
    "for step in run_steps.data:\n",
    "    print('===Step: ', step)"
   ]
  },
  {
   "cell_type": "code",
   "execution_count": 23,
   "metadata": {},
   "outputs": [
    {
     "name": "stdout",
     "output_type": "stream",
     "text": [
      "\n",
      "=== Step: message_creation\n",
      "Para calcular a probabilidade de obter exatamente 150 vezes o número 6 ao jogar um dado honesto 1000 vezes, podemos usar a distribuição de probabilidade binomial. A fórmula da distribuição binomial é dada por:\n",
      "\n",
      "\\[ P(X = k) = \\binom{n}{k} \\times p^k \\times (1-p)^{n-k} \\]\n",
      "\n",
      "onde:\n",
      "- \\( P(X = k) \\) é a probabilidade de obter exatamente k sucessos em n tentativas,\n",
      "- \\( n = 1000 \\) é o número de tentativas,\n",
      "- \\( k = 150 \\) é o número de sucessos desejados (obter o número 6),\n",
      "- \\( p = \\frac{1}{6} \\) é a probabilidade de sucesso em uma única tentativa (sair o número 6),\n",
      "- \\( \\binom{n}{k} \\) é o número de combinações de n elementos tomados k a k.\n",
      "\n",
      "Vou calcular a probabilidade para você.\n",
      "\n",
      "=== Step: tool_calls\n",
      "-----\n",
      "from math import comb\n",
      "\n",
      "n = 1000\n",
      "k = 150\n",
      "p = 1/6\n",
      "\n",
      "# Calculando a probabilidade\n",
      "probabilidade = comb(n, k) * (p ** k) * ((1 - p) ** (n - k))\n",
      "probabilidade\n",
      "-----\n",
      "Result\n",
      "No outputs available.\n",
      "\n",
      "=== Step: message_creation\n",
      "A probabilidade de obter exatamente 150 vezes o número 6 ao jogar um dado honesto 1000 vezes é aproximadamente 0.0126, ou seja, aproximadamente 1.26%.\n"
     ]
    }
   ],
   "source": [
    "for step in run_steps.data[::-1]:\n",
    "    print('\\n=== Step:', step.step_details.type)\n",
    "    if step.step_details.type == 'tool_calls':\n",
    "        for tool_call in step.step_details.tool_calls:\n",
    "            print('-----')\n",
    "            print(tool_call.code_interpreter.input)\n",
    "            print('-----')\n",
    "            print('Result')\n",
    "            # Certifique-se de que outputs não esteja vazio antes de acessar\n",
    "            if tool_call.code_interpreter.outputs:\n",
    "                print(tool_call.code_interpreter.outputs[0].logs)\n",
    "            else:\n",
    "                print(\"No outputs available.\")\n",
    "    if step.step_details.type == 'message_creation':\n",
    "        message = client.beta.threads.messages.retrieve(\n",
    "            thread_id=thread.id,\n",
    "            message_id=step.step_details.message_creation.message_id\n",
    "        )\n",
    "        print(message.content[0].text.value)"
   ]
  }
 ],
 "metadata": {
  "kernelspec": {
   "display_name": "av",
   "language": "python",
   "name": "python3"
  },
  "language_info": {
   "codemirror_mode": {
    "name": "ipython",
    "version": 3
   },
   "file_extension": ".py",
   "mimetype": "text/x-python",
   "name": "python",
   "nbconvert_exporter": "python",
   "pygments_lexer": "ipython3",
   "version": "3.13.2"
  }
 },
 "nbformat": 4,
 "nbformat_minor": 2
}
