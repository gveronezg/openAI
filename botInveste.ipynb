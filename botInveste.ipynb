{
 "cells": [
  {
   "cell_type": "code",
   "execution_count": 1,
   "metadata": {},
   "outputs": [],
   "source": [
    "import json\n",
    "import openai\n",
    "import yfinance as yf\n",
    "from dotenv import load_dotenv, find_dotenv\n",
    "\n",
    "_ = load_dotenv(find_dotenv())\n",
    "client = openai.Client()"
   ]
  },
  {
   "cell_type": "code",
   "execution_count": 2,
   "metadata": {},
   "outputs": [
    {
     "name": "stdout",
     "output_type": "stream",
     "text": [
      "yfinance.Ticker object <ABEV3.SA>\n"
     ]
    },
    {
     "data": {
      "text/html": [
       "<div>\n",
       "<style scoped>\n",
       "    .dataframe tbody tr th:only-of-type {\n",
       "        vertical-align: middle;\n",
       "    }\n",
       "\n",
       "    .dataframe tbody tr th {\n",
       "        vertical-align: top;\n",
       "    }\n",
       "\n",
       "    .dataframe thead th {\n",
       "        text-align: right;\n",
       "    }\n",
       "</style>\n",
       "<table border=\"1\" class=\"dataframe\">\n",
       "  <thead>\n",
       "    <tr style=\"text-align: right;\">\n",
       "      <th></th>\n",
       "      <th>Open</th>\n",
       "      <th>High</th>\n",
       "      <th>Low</th>\n",
       "      <th>Close</th>\n",
       "      <th>Volume</th>\n",
       "      <th>Dividends</th>\n",
       "      <th>Stock Splits</th>\n",
       "    </tr>\n",
       "    <tr>\n",
       "      <th>Date</th>\n",
       "      <th></th>\n",
       "      <th></th>\n",
       "      <th></th>\n",
       "      <th></th>\n",
       "      <th></th>\n",
       "      <th></th>\n",
       "      <th></th>\n",
       "    </tr>\n",
       "  </thead>\n",
       "  <tbody>\n",
       "    <tr>\n",
       "      <th>2025-03-05 00:00:00-03:00</th>\n",
       "      <td>12.50</td>\n",
       "      <td>12.93</td>\n",
       "      <td>12.42</td>\n",
       "      <td>12.78</td>\n",
       "      <td>54086900</td>\n",
       "      <td>0.0</td>\n",
       "      <td>0.0</td>\n",
       "    </tr>\n",
       "    <tr>\n",
       "      <th>2025-03-06 00:00:00-03:00</th>\n",
       "      <td>12.77</td>\n",
       "      <td>13.04</td>\n",
       "      <td>12.70</td>\n",
       "      <td>12.85</td>\n",
       "      <td>40524500</td>\n",
       "      <td>0.0</td>\n",
       "      <td>0.0</td>\n",
       "    </tr>\n",
       "    <tr>\n",
       "      <th>2025-03-07 00:00:00-03:00</th>\n",
       "      <td>12.78</td>\n",
       "      <td>13.12</td>\n",
       "      <td>12.72</td>\n",
       "      <td>13.10</td>\n",
       "      <td>30190400</td>\n",
       "      <td>0.0</td>\n",
       "      <td>0.0</td>\n",
       "    </tr>\n",
       "    <tr>\n",
       "      <th>2025-03-10 00:00:00-03:00</th>\n",
       "      <td>13.00</td>\n",
       "      <td>13.26</td>\n",
       "      <td>12.98</td>\n",
       "      <td>13.12</td>\n",
       "      <td>27718600</td>\n",
       "      <td>0.0</td>\n",
       "      <td>0.0</td>\n",
       "    </tr>\n",
       "    <tr>\n",
       "      <th>2025-03-11 00:00:00-03:00</th>\n",
       "      <td>13.08</td>\n",
       "      <td>13.16</td>\n",
       "      <td>12.74</td>\n",
       "      <td>12.86</td>\n",
       "      <td>32659900</td>\n",
       "      <td>0.0</td>\n",
       "      <td>0.0</td>\n",
       "    </tr>\n",
       "  </tbody>\n",
       "</table>\n",
       "</div>"
      ],
      "text/plain": [
       "                            Open   High    Low  Close    Volume  Dividends  \\\n",
       "Date                                                                         \n",
       "2025-03-05 00:00:00-03:00  12.50  12.93  12.42  12.78  54086900        0.0   \n",
       "2025-03-06 00:00:00-03:00  12.77  13.04  12.70  12.85  40524500        0.0   \n",
       "2025-03-07 00:00:00-03:00  12.78  13.12  12.72  13.10  30190400        0.0   \n",
       "2025-03-10 00:00:00-03:00  13.00  13.26  12.98  13.12  27718600        0.0   \n",
       "2025-03-11 00:00:00-03:00  13.08  13.16  12.74  12.86  32659900        0.0   \n",
       "\n",
       "                           Stock Splits  \n",
       "Date                                     \n",
       "2025-03-05 00:00:00-03:00           0.0  \n",
       "2025-03-06 00:00:00-03:00           0.0  \n",
       "2025-03-07 00:00:00-03:00           0.0  \n",
       "2025-03-10 00:00:00-03:00           0.0  \n",
       "2025-03-11 00:00:00-03:00           0.0  "
      ]
     },
     "execution_count": 2,
     "metadata": {},
     "output_type": "execute_result"
    }
   ],
   "source": [
    "ticker = 'ABEV3'\n",
    "ticker_obj = yf.Ticker(f'{ticker}.SA')\n",
    "print(ticker_obj)\n",
    "\n",
    "period = '5d'\n",
    "ticker_obj.history(period=period)"
   ]
  },
  {
   "cell_type": "code",
   "execution_count": 3,
   "metadata": {},
   "outputs": [
    {
     "data": {
      "text/plain": [
       "'{\"2020-03-30\":10.02,\"2020-05-29\":9.96,\"2020-07-28\":12.05,\"2020-09-24\":10.12,\"2020-11-25\":11.57,\"2021-01-28\":12.8,\"2021-03-30\":12.84,\"2021-05-28\":14.7,\"2021-07-28\":14.27,\"2021-09-24\":13.04,\"2021-11-25\":14.19,\"2022-01-25\":12.89,\"2022-03-25\":12.25,\"2022-05-25\":12.01,\"2022-07-22\":12.41,\"2022-09-20\":13.48,\"2022-11-21\":13.41,\"2023-01-18\":12.41,\"2023-03-20\":12.72,\"2023-05-19\":13.13,\"2023-07-18\":13.21,\"2023-09-14\":12.19,\"2023-11-14\":12.34,\"2024-01-16\":12.65,\"2024-03-15\":11.97,\"2024-05-15\":11.67,\"2024-07-12\":11.03,\"2024-09-09\":12.43,\"2024-11-05\":12.02,\"2025-01-09\":11.4,\"2025-03-11\":12.86}'"
      ]
     },
     "execution_count": 3,
     "metadata": {},
     "output_type": "execute_result"
    }
   ],
   "source": [
    "def retorna_cotacao_acao_historica(\n",
    "    ticker,\n",
    "    periodo='1mo'\n",
    "):\n",
    "    ticker_obj = yf.Ticker(f'{ticker}.SA')\n",
    "    hist = ticker_obj.history(period=periodo)\n",
    "    hist.index = hist.index.strftime('%Y-%m-%d')\n",
    "    hist = round(hist, 2)\n",
    "    if len(hist) > 30:\n",
    "        slice_size = int(len(hist)/30)\n",
    "        hist = hist.iloc[::-slice_size][::-1]\n",
    "    return hist['Close'].to_json()\n",
    "hist = retorna_cotacao_acao_historica('ABEV3','5y')\n",
    "hist"
   ]
  },
  {
   "cell_type": "code",
   "execution_count": 4,
   "metadata": {},
   "outputs": [],
   "source": [
    "tools = [\n",
    "    {\n",
    "        'type': 'function',\n",
    "        'function': {\n",
    "            'name': 'retorna_cotacao_acao_historica',\n",
    "            'description': 'Retorna a cotação diária histórica de uma ação da bovespa',\n",
    "            'parameters': {\n",
    "                'type': 'object',\n",
    "                'properties': {\n",
    "                    'ticker': {\n",
    "                        'type': 'string',\n",
    "                        'description': 'O ticker do ativo. Exemplo: ABVE3 para ambev, PETR4 para petrobras, etc'\n",
    "                    },\n",
    "                    'periodo': {\n",
    "                        'type': 'string',\n",
    "                        'description': 'O período que será retornado de dados históricos \\\n",
    "                                        sendo \"1mo\" equivalente a um mês de dados, \"1d\" a \\\n",
    "                                        1 dia e \"1y\" a 1 ano',\n",
    "                        'enum': ['1d','5d','1mo','3mo','6mo','1y','2y','5y','10y','ytd','max']\n",
    "                    }\n",
    "                }\n",
    "            }\n",
    "        }\n",
    "    }\n",
    "]\n",
    "\n",
    "funcoes_disponiveis = {'retorna_cotacao_acao_historica': retorna_cotacao_acao_historica}"
   ]
  },
  {
   "cell_type": "code",
   "execution_count": 9,
   "metadata": {},
   "outputs": [],
   "source": [
    "mensagens = [{'role': 'user', 'content': 'Qual é a cotação da ambev agora?'}]\n",
    "\n",
    "resposta = client.chat.completions.create(\n",
    "    messages=mensagens,\n",
    "    model='gpt-3.5-turbo-0125',\n",
    "    tools=tools,\n",
    "    tool_choice='auto'\n",
    ")"
   ]
  },
  {
   "cell_type": "code",
   "execution_count": null,
   "metadata": {},
   "outputs": [
    {
     "data": {
      "text/plain": [
       "'A cotação atual da Ambev é de R$ 12,86.'"
      ]
     },
     "execution_count": 10,
     "metadata": {},
     "output_type": "execute_result"
    }
   ],
   "source": [
    "tool_calls = resposta.choices[0].message.tool_calls\n",
    "\n",
    "if tool_calls:\n",
    "    mensagens.append(resposta.choices[0].message)\n",
    "    for tool_call in tool_calls:\n",
    "        func_name = tool_call.function.name\n",
    "        function_to_call = funcoes_disponiveis[func_name]\n",
    "        func_args = json.loads(tool_call.function.arguments)\n",
    "        func_return = function_to_call(**func_args)\n",
    "        mensagens.append({\n",
    "            'tool_call_id': tool_call.id,\n",
    "            'role': 'tool',\n",
    "            'name': func_name,\n",
    "            'content': func_return\n",
    "        })\n",
    "    segunda_resposta = client.chat.completions.create(\n",
    "        messages=mensagens,\n",
    "        model='gpt-3.5-turbo-0125'\n",
    "    )\n",
    "    mensagens.append(segunda_resposta.choices[0].message)"
   ]
  }
 ],
 "metadata": {
  "kernelspec": {
   "display_name": "av",
   "language": "python",
   "name": "python3"
  },
  "language_info": {
   "codemirror_mode": {
    "name": "ipython",
    "version": 3
   },
   "file_extension": ".py",
   "mimetype": "text/x-python",
   "name": "python",
   "nbconvert_exporter": "python",
   "pygments_lexer": "ipython3",
   "version": "3.13.2"
  }
 },
 "nbformat": 4,
 "nbformat_minor": 2
}
