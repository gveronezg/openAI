{
 "cells": [
  {
   "cell_type": "code",
   "execution_count": null,
   "metadata": {},
   "outputs": [],
   "source": [
    "import openai\n",
    "from dotenv import load_dotenv, find_dotenv\n",
    "\n",
    "_ = load_dotenv(find_dotenv()) # usado para deixar a apiKey oculta em .env\n",
    "client = openai.Client()"
   ]
  },
  {
   "cell_type": "code",
   "execution_count": null,
   "metadata": {},
   "outputs": [],
   "source": [
    "mensagens = [{'role': 'user', 'content': 'O que é uma maçã em 5 palavras?'}]\n",
    "\n",
    "resposta = client.chat.completions.create(\n",
    "    messages=mensagens,\n",
    "    model='gpt-3.5-turbo-0125',\n",
    "    max_tokens=1000, # limita a quantidade de tokens e palavras geradas para reduzir gastos excessivos\n",
    "    temperature=0 # temperature de 0 a 2 onde 2 significa uma resposta \"completamente viajada\"\n",
    ")"
   ]
  },
  {
   "cell_type": "code",
   "execution_count": 3,
   "metadata": {},
   "outputs": [
    {
     "name": "stdout",
     "output_type": "stream",
     "text": [
      "Fruta redonda e saborosa.\n"
     ]
    }
   ],
   "source": [
    "print(resposta.choices[0].message.content)"
   ]
  },
  {
   "cell_type": "code",
   "execution_count": 4,
   "metadata": {},
   "outputs": [],
   "source": [
    "mensagens.append({'role': 'assistant', 'content': resposta.choices[0].message.content})"
   ]
  },
  {
   "cell_type": "code",
   "execution_count": 5,
   "metadata": {},
   "outputs": [
    {
     "data": {
      "text/plain": [
       "[{'role': 'user', 'content': 'O que é uma maçã em 5 palavras?'},\n",
       " {'role': 'assistant', 'content': 'Fruta redonda e saborosa.'}]"
      ]
     },
     "execution_count": 5,
     "metadata": {},
     "output_type": "execute_result"
    }
   ],
   "source": [
    "mensagens"
   ]
  },
  {
   "cell_type": "code",
   "execution_count": 11,
   "metadata": {},
   "outputs": [],
   "source": [
    "mensagens.append({'role': 'user', 'content': 'E qual é a sua cor?'})"
   ]
  },
  {
   "cell_type": "code",
   "execution_count": 12,
   "metadata": {},
   "outputs": [
    {
     "data": {
      "text/plain": [
       "[{'role': 'user', 'content': 'O que é uma maçã em 5 palavras?'},\n",
       " {'role': 'assistant', 'content': 'Fruta redonda e saborosa.'},\n",
       " {'role': 'user', 'content': 'E qual é a sua cor?'}]"
      ]
     },
     "execution_count": 12,
     "metadata": {},
     "output_type": "execute_result"
    }
   ],
   "source": [
    "mensagens"
   ]
  },
  {
   "cell_type": "code",
   "execution_count": 13,
   "metadata": {},
   "outputs": [],
   "source": [
    "resposta = client.chat.completions.create(\n",
    "    messages=mensagens,\n",
    "    model='gpt-3.5-turbo-0125',\n",
    "    max_tokens=1000,\n",
    "    temperature=0\n",
    ")"
   ]
  },
  {
   "cell_type": "code",
   "execution_count": 14,
   "metadata": {},
   "outputs": [
    {
     "name": "stdout",
     "output_type": "stream",
     "text": [
      "Vermelha, verde ou amarela.\n"
     ]
    }
   ],
   "source": [
    "print(resposta.choices[0].message.content)"
   ]
  },
  {
   "cell_type": "markdown",
   "metadata": {},
   "source": [
    "## Adicionando a uma função"
   ]
  },
  {
   "cell_type": "code",
   "execution_count": 15,
   "metadata": {},
   "outputs": [],
   "source": [
    "def geracao_texto(mensagens, model='gpt-3.5-turbo-0125', max_tokens=1000, temperature=0):\n",
    "    resposta = client.chat.completions.create(\n",
    "        messages=mensagens,\n",
    "        model=model,\n",
    "        max_tokens=max_tokens,\n",
    "        temperature=temperature\n",
    "    )\n",
    "    print(resposta.choices[0].message.content)\n",
    "    mensagens.append({'role': 'assistant', 'content': resposta.choices[0].message.content})\n",
    "    return mensagens"
   ]
  },
  {
   "cell_type": "code",
   "execution_count": 16,
   "metadata": {},
   "outputs": [
    {
     "name": "stdout",
     "output_type": "stream",
     "text": [
      "A maçã pode ser doce ou azeda, dependendo da variedade. Existem maçãs mais doces, como a Fuji e a Gala, e maçãs mais ácidas, como a Granny Smith.\n"
     ]
    }
   ],
   "source": [
    "mensagens.append({'role': 'user', 'content': 'Ela é doce ou azeda?'})\n",
    "mensagens = geracao_texto(mensagens)"
   ]
  },
  {
   "cell_type": "markdown",
   "metadata": {},
   "source": [
    "## Explorando a classe RESPOSTA"
   ]
  },
  {
   "cell_type": "code",
   "execution_count": null,
   "metadata": {},
   "outputs": [
    {
     "data": {
      "text/plain": [
       "CompletionUsage(completion_tokens=12, prompt_tokens=44, total_tokens=56, completion_tokens_details=CompletionTokensDetails(accepted_prediction_tokens=0, audio_tokens=0, reasoning_tokens=0, rejected_prediction_tokens=0), prompt_tokens_details=PromptTokensDetails(audio_tokens=0, cached_tokens=0))"
      ]
     },
     "execution_count": 17,
     "metadata": {},
     "output_type": "execute_result"
    }
   ],
   "source": [
    "resposta.usage\n",
    "# completion_tokens = tokens de output\n",
    "# prompt_tokens = tokens de input\n",
    "# total_tokens = os 2 tokens somados"
   ]
  },
  {
   "cell_type": "code",
   "execution_count": 18,
   "metadata": {},
   "outputs": [
    {
     "data": {
      "text/plain": [
       "ChatCompletionMessage(content='Vermelha, verde ou amarela.', refusal=None, role='assistant', audio=None, function_call=None, tool_calls=None)"
      ]
     },
     "execution_count": 18,
     "metadata": {},
     "output_type": "execute_result"
    }
   ],
   "source": [
    "resposta.choices[0].message"
   ]
  },
  {
   "cell_type": "code",
   "execution_count": 22,
   "metadata": {},
   "outputs": [
    {
     "data": {
      "text/plain": [
       "{'content': 'Vermelha, verde ou amarela.',\n",
       " 'refusal': None,\n",
       " 'role': 'assistant',\n",
       " 'audio': None,\n",
       " 'function_call': None,\n",
       " 'tool_calls': None}"
      ]
     },
     "execution_count": 22,
     "metadata": {},
     "output_type": "execute_result"
    }
   ],
   "source": [
    "# Já transforma direto para o modo de mensagens\n",
    "resposta.choices[0].message.model_dump()"
   ]
  },
  {
   "cell_type": "code",
   "execution_count": null,
   "metadata": {},
   "outputs": [
    {
     "data": {
      "text/plain": [
       "{'content': 'Vermelha, verde ou amarela.', 'role': 'assistant'}"
      ]
     },
     "execution_count": 23,
     "metadata": {},
     "output_type": "execute_result"
    }
   ],
   "source": [
    "# Já transforma direto para o modo de mensagens TRATADO\n",
    "resposta.choices[0].message.model_dump(exclude_none=True)"
   ]
  },
  {
   "cell_type": "markdown",
   "metadata": {},
   "source": [
    "## Aplicando o Stream para deixar a resposta mais fluida"
   ]
  },
  {
   "cell_type": "code",
   "execution_count": 31,
   "metadata": {},
   "outputs": [],
   "source": [
    "mensagens = [{'role': 'user', 'content': 'Crie uma história sobre uma viagem á Marte?'}]\n",
    "\n",
    "resposta = client.chat.completions.create(\n",
    "    messages=mensagens,\n",
    "    model='gpt-3.5-turbo-0125',\n",
    "    max_tokens=1000, # limita a quantidade de tokens e palavras geradas para reduzir gastos excessivos\n",
    "    temperature=0, # temperature de 0 a 2 onde 2 significa uma resposta \"completamente viajada\"\n",
    "    stream=True\n",
    ")"
   ]
  },
  {
   "cell_type": "code",
   "execution_count": 32,
   "metadata": {},
   "outputs": [
    {
     "name": "stdout",
     "output_type": "stream",
     "text": [
      "Era o ano de 2050 e a humanidade finalmente havia conseguido enviar uma missão tripulada para Marte. A nave espacial, batizada de \"Explorador Vermelho\", era composta por uma equipe de astronautas altamente treinados e equipada com tecnologia de ponta para garantir o sucesso da missão.\n",
      "\n",
      "Após meses de viagem no espaço, a nave finalmente chegou ao Planeta Vermelho. A equipe estava extasiada com a visão da paisagem marciana, com suas montanhas vermelhas e crateras antigas. Eles sabiam que estavam prestes a fazer história, sendo os primeiros humanos a pisarem em Marte.\n",
      "\n",
      "Ao desembarcarem na superfície do planeta, os astronautas começaram a explorar a região, coletando amostras de solo e rochas para análise. Eles também instalaram equipamentos para estudar a atmosfera marciana e procurar por sinais de vida.\n",
      "\n",
      "Durante a missão, os astronautas enfrentaram diversos desafios, como tempestades de poeira e falhas técnicas na nave. No entanto, eles trabalharam em equipe e superaram cada obstáculo com determinação e coragem.\n",
      "\n",
      "Após semanas de exploração, a equipe finalmente fez uma descoberta incrível: vestígios de vida microbiana em uma caverna subterrânea. Era a primeira evidência concreta de que Marte já abrigou formas de vida em algum momento de sua história.\n",
      "\n",
      "Com os dados e amostras coletadas, a equipe retornou à Terra como heróis, sendo recebidos com festa e honrarias. Sua missão foi um marco na história da exploração espacial e abriu caminho para futuras expedições a Marte em busca de respostas sobre a origem da vida no universo.\n",
      "\n",
      "E assim, a humanidade deu mais um passo em direção às estrelas, rumo a um futuro de descobertas e conquistas no vasto cosmos."
     ]
    }
   ],
   "source": [
    "resposta_completa = ''\n",
    "for stream_resposta in resposta:\n",
    "    texto = stream_resposta.choices[0].delta.content\n",
    "    if texto:\n",
    "        resposta_completa += texto\n",
    "        print(texto, end='')"
   ]
  },
  {
   "cell_type": "code",
   "execution_count": 33,
   "metadata": {},
   "outputs": [
    {
     "name": "stdout",
     "output_type": "stream",
     "text": [
      "Era o ano de 2050 e a humanidade finalmente havia conseguido enviar uma missão tripulada para Marte. A nave espacial, batizada de \"Explorador Vermelho\", era composta por uma equipe de astronautas altamente treinados e equipada com tecnologia de ponta para garantir o sucesso da missão.\n",
      "\n",
      "Após meses de viagem no espaço, a nave finalmente chegou ao Planeta Vermelho. A equipe estava extasiada com a visão da paisagem marciana, com suas montanhas vermelhas e crateras antigas. Eles sabiam que estavam prestes a fazer história, sendo os primeiros humanos a pisarem em Marte.\n",
      "\n",
      "Ao desembarcarem na superfície do planeta, os astronautas começaram a explorar a região, coletando amostras de solo e rochas para análise. Eles também instalaram equipamentos para estudar a atmosfera marciana e procurar por sinais de vida.\n",
      "\n",
      "Durante a missão, os astronautas enfrentaram diversos desafios, como tempestades de poeira e falhas técnicas na nave. No entanto, eles trabalharam em equipe e superaram cada obstáculo com determinação e coragem.\n",
      "\n",
      "Após semanas de exploração, a equipe finalmente fez uma descoberta incrível: vestígios de vida microbiana em uma caverna subterrânea. Era a primeira evidência concreta de que Marte já abrigou formas de vida em algum momento de sua história.\n",
      "\n",
      "Com os dados e amostras coletadas, a equipe retornou à Terra como heróis, sendo recebidos com festa e honrarias. Sua missão foi um marco na história da exploração espacial e abriu caminho para futuras expedições a Marte em busca de respostas sobre a origem da vida no universo.\n",
      "\n",
      "E assim, a humanidade deu mais um passo em direção às estrelas, rumo a um futuro de descobertas e conquistas no vasto cosmos.\n"
     ]
    }
   ],
   "source": [
    "print(resposta_completa)"
   ]
  }
 ],
 "metadata": {
  "kernelspec": {
   "display_name": "av",
   "language": "python",
   "name": "python3"
  },
  "language_info": {
   "codemirror_mode": {
    "name": "ipython",
    "version": 3
   },
   "file_extension": ".py",
   "mimetype": "text/x-python",
   "name": "python",
   "nbconvert_exporter": "python",
   "pygments_lexer": "ipython3",
   "version": "3.13.2"
  }
 },
 "nbformat": 4,
 "nbformat_minor": 2
}
